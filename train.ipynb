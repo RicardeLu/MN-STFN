{
 "cells": [
  {
   "cell_type": "code",
   "execution_count": 1,
   "metadata": {},
   "outputs": [],
   "source": [
    "import torch\n",
    "from torch.utils.data import DataLoader\n",
    "\n",
    "from model import *\n",
    "from trainer import *\n",
    "from database import FlowData_B as FlowData\n",
    "from config import ENV_CON_B as ENV_CON"
   ]
  },
  {
   "cell_type": "code",
   "execution_count": 2,
   "metadata": {},
   "outputs": [],
   "source": [
    "forecast_step = 1\n",
    "lr, max_step = 0.001, 100\n",
    "hidden_dim = 16\n",
    "block_index = 2\n",
    "re_index = 4\n",
    "\n",
    "seed = torch.initial_seed()\n",
    "net = MNSTFN(\n",
    "    in_dim=2,\n",
    "    hidden_dim=hidden_dim,\n",
    "    forecast_step=forecast_step,\n",
    "    block_index= block_index,\n",
    "    re_index= re_index\n",
    ")\n",
    "recoder = ExpRecorder(\n",
    "    save_path=ENV_CON['path_e'],\n",
    "    model_name=f\"{net.__class__.__name__}-{ENV_CON['data_name']}\",\n",
    "    model_file_name= f'{net.__class__.__name__}-{forecast_step}'\n",
    "    )"
   ]
  },
  {
   "cell_type": "code",
   "execution_count": null,
   "metadata": {},
   "outputs": [],
   "source": [
    "recoder.record('\\n--------------start-----------------\\n')\n",
    "recoder.record(f'model name:{net.__class__.__name__}\\n\\n')\n",
    "recoder.record(f'lr:{lr}    max_tsep:{max_step}    forecast:{forecast_step}    current random seed:{seed}')\n",
    "recoder.record(f'hidden dim:{hidden_dim}    block index:{block_index}   re index:{re_index}')"
   ]
  },
  {
   "cell_type": "code",
   "execution_count": null,
   "metadata": {},
   "outputs": [],
   "source": [
    "data_set = FlowData(forecast_step)\n",
    "test_size = 48*7*4\n",
    "train_size = len(data_set) - test_size\n",
    "train_dataset = torch.utils.data.Subset(data_set,[i for i in range(0,train_size)])\n",
    "test_dataset = torch.utils.data.Subset(data_set,[i for i in range(train_size,len(data_set))])\n",
    "train_loader = DataLoader(train_dataset,32,shuffle=True)\n",
    "# train_loader = DataLoader(train_dataset,32,shuffle=True,drop_last=True)\n",
    "test_loader = DataLoader(test_dataset,1,shuffle=False)\n",
    "recoder.record(f'dateset length:{len(data_set)}')\n",
    "recoder.record(f'train data length:{train_size} test data length:{test_size}')"
   ]
  },
  {
   "cell_type": "code",
   "execution_count": null,
   "metadata": {},
   "outputs": [],
   "source": [
    "if torch.cuda.is_available():\n",
    "    net = net.cuda()\n",
    "\n",
    "train_net(net,train_loader,test_loader,max_step,lr,ENV_CON['scale'],recoder)"
   ]
  }
 ],
 "metadata": {
  "kernelspec": {
   "display_name": "torch",
   "language": "python",
   "name": "python3"
  },
  "language_info": {
   "codemirror_mode": {
    "name": "ipython",
    "version": 3
   },
   "file_extension": ".py",
   "mimetype": "text/x-python",
   "name": "python",
   "nbconvert_exporter": "python",
   "pygments_lexer": "ipython3",
   "version": "3.11.4"
  },
  "orig_nbformat": 4
 },
 "nbformat": 4,
 "nbformat_minor": 2
}
